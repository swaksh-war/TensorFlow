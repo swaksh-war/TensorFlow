{
 "cells": [
  {
   "cell_type": "code",
   "execution_count": 2,
   "metadata": {},
   "outputs": [],
   "source": [
    "import tensorflow as tf\n",
    "from tensorflow import keras\n",
    "from tensorflow.keras import datasets, layers, models\n",
    "import matplotlib.pyplot as plt\n",
    "import numpy as np"
   ]
  },
  {
   "cell_type": "code",
   "execution_count": 3,
   "metadata": {},
   "outputs": [
    {
     "data": {
      "text/plain": [
       "(50000, 32, 32, 3)"
      ]
     },
     "execution_count": 3,
     "metadata": {},
     "output_type": "execute_result"
    }
   ],
   "source": [
    "(X_train, y_train), (X_test, y_test) = datasets.cifar10.load_data()\n",
    "X_train.shape"
   ]
  },
  {
   "cell_type": "code",
   "execution_count": 4,
   "metadata": {},
   "outputs": [
    {
     "data": {
      "text/plain": [
       "<matplotlib.image.AxesImage at 0x7f0bfc83ac50>"
      ]
     },
     "execution_count": 4,
     "metadata": {},
     "output_type": "execute_result"
    },
    {
     "data": {
      "image/png": "[encoded data removed]",
      "text/plain": [
       "<Figure size 1080x144 with 1 Axes>"
      ]
     },
     "metadata": {
      "needs_background": "light"
     },
     "output_type": "display_data"
    }
   ],
   "source": [
    "plt.figure(figsize=(15,2))\n",
    "plt.imshow(X_train[100])"
   ]
  },
  {
   "cell_type": "code",
   "execution_count": 5,
   "metadata": {},
   "outputs": [
    {
     "data": {
      "text/plain": [
       "array([6, 9, 9, 4, 1], dtype=uint8)"
      ]
     },
     "execution_count": 5,
     "metadata": {},
     "output_type": "execute_result"
    }
   ],
   "source": [
    "y_train = y_train.reshape(-1,)\n",
    "y_train[:5]"
   ]
  },
  {
   "cell_type": "code",
   "execution_count": 6,
   "metadata": {},
   "outputs": [],
   "source": [
    "classes = ['airplane','automobile','bird','cat','deer','dog','frog','horse','ship','truck']"
   ]
  },
  {
   "cell_type": "code",
   "execution_count": 7,
   "metadata": {},
   "outputs": [],
   "source": [
    "def plot_sample(X, y, index):\n",
    "    plt.figure(figsize=(15,2))\n",
    "    plt.imshow(X[index])\n",
    "    plt.xlabel(classes[y[index]])"
   ]
  },
  {
   "cell_type": "code",
   "execution_count": 8,
   "metadata": {},
   "outputs": [
    {
     "data": {
      "image/png": "[encoded data removed]",
      "text/plain": [
       "<Figure size 1080x144 with 1 Axes>"
      ]
     },
     "metadata": {
      "needs_background": "light"
     },
     "output_type": "display_data"
    }
   ],
   "source": [
    "plot_sample(X_train, y_train, 100)"
   ]
  },
  {
   "cell_type": "code",
   "execution_count": 9,
   "metadata": {},
   "outputs": [],
   "source": [
    "X_train = X_train /255\n",
    "X_test = X_test / 255"
   ]
  },
  {
   "cell_type": "code",
   "execution_count": 10,
   "metadata": {},
   "outputs": [
    {
     "data": {
      "text/plain": [
       "array([[0., 0., 0., 0., 0., 0., 1., 0., 0., 0.],\n",
       "       [0., 0., 0., 0., 0., 0., 0., 0., 0., 1.],\n",
       "       [0., 0., 0., 0., 0., 0., 0., 0., 0., 1.],\n",
       "       [0., 0., 0., 0., 1., 0., 0., 0., 0., 0.],\n",
       "       [0., 1., 0., 0., 0., 0., 0., 0., 0., 0.]], dtype=float32)"
      ]
     },
     "execution_count": 10,
     "metadata": {},
     "output_type": "execute_result"
    }
   ],
   "source": [
    "y_train_categorical = keras.utils.to_categorical(\n",
    "    y_train, num_classes = 10, dtype='float32'\n",
    ")\n",
    "y_train_categorical[:5]"
   ]
  },
  {
   "cell_type": "code",
   "execution_count": 11,
   "metadata": {},
   "outputs": [
    {
     "name": "stdout",
     "output_type": "stream",
     "text": [
      "Model: \"sequential\"\n",
      "_________________________________________________________________\n",
      " Layer (type)                Output Shape              Param #   \n",
      "=================================================================\n",
      " conv2d (Conv2D)             (None, 30, 30, 32)        896       \n",
      "                                                                 \n",
      " max_pooling2d (MaxPooling2D  (None, 15, 15, 32)       0         \n",
      " )                                                               \n",
      "                                                                 \n",
      " conv2d_1 (Conv2D)           (None, 13, 13, 64)        18496     \n",
      "                                                                 \n",
      " max_pooling2d_1 (MaxPooling  (None, 6, 6, 64)         0         \n",
      " 2D)                                                             \n",
      "                                                                 \n",
      " flatten (Flatten)           (None, 2304)              0         \n",
      "                                                                 \n",
      " dense (Dense)               (None, 64)                147520    \n",
      "                                                                 \n",
      " dense_1 (Dense)             (None, 10)                650       \n",
      "                                                                 \n",
      "=================================================================\n",
      "Total params: 167,562\n",
      "Trainable params: 167,562\n",
      "Non-trainable params: 0\n",
      "_________________________________________________________________\n"
     ]
    },
    {
     "name": "stderr",
     "output_type": "stream",
     "text": [
      "2022-09-27 11:10:28.088625: I tensorflow/stream_executor/cuda/cuda_gpu_executor.cc:975] successful NUMA node read from SysFS had negative value (-1), but there must be at least one NUMA node, so returning NUMA node zero\n",
      "2022-09-27 11:10:28.161804: I tensorflow/stream_executor/cuda/cuda_gpu_executor.cc:975] successful NUMA node read from SysFS had negative value (-1), but there must be at least one NUMA node, so returning NUMA node zero\n",
      "2022-09-27 11:10:28.161960: I tensorflow/stream_executor/cuda/cuda_gpu_executor.cc:975] successful NUMA node read from SysFS had negative value (-1), but there must be at least one NUMA node, so returning NUMA node zero\n",
      "2022-09-27 11:10:28.162997: I tensorflow/core/platform/cpu_feature_guard.cc:193] This TensorFlow binary is optimized with oneAPI Deep Neural Network Library (oneDNN) to use the following CPU instructions in performance-critical operations:  AVX2 FMA\n",
      "To enable them in other operations, rebuild TensorFlow with the appropriate compiler flags.\n",
      "2022-09-27 11:10:28.163647: I tensorflow/stream_executor/cuda/cuda_gpu_executor.cc:975] successful NUMA node read from SysFS had negative value (-1), but there must be at least one NUMA node, so returning NUMA node zero\n",
      "2022-09-27 11:10:28.163757: I tensorflow/stream_executor/cuda/cuda_gpu_executor.cc:975] successful NUMA node read from SysFS had negative value (-1), but there must be at least one NUMA node, so returning NUMA node zero\n",
      "2022-09-27 11:10:28.163848: I tensorflow/stream_executor/cuda/cuda_gpu_executor.cc:975] successful NUMA node read from SysFS had negative value (-1), but there must be at least one NUMA node, so returning NUMA node zero\n",
      "2022-09-27 11:10:29.101657: I tensorflow/stream_executor/cuda/cuda_gpu_executor.cc:975] successful NUMA node read from SysFS had negative value (-1), but there must be at least one NUMA node, so returning NUMA node zero\n",
      "2022-09-27 11:10:29.101814: I tensorflow/stream_executor/cuda/cuda_gpu_executor.cc:975] successful NUMA node read from SysFS had negative value (-1), but there must be at least one NUMA node, so returning NUMA node zero\n",
      "2022-09-27 11:10:29.101912: I tensorflow/stream_executor/cuda/cuda_gpu_executor.cc:975] successful NUMA node read from SysFS had negative value (-1), but there must be at least one NUMA node, so returning NUMA node zero\n",
      "2022-09-27 11:10:29.102442: I tensorflow/core/common_runtime/gpu/gpu_device.cc:1532] Created device /job:localhost/replica:0/task:0/device:GPU:0 with 2244 MB memory:  -> device: 0, name: NVIDIA GeForce GTX 1650 with Max-Q Design, pci bus id: 0000:01:00.0, compute capability: 7.5\n"
     ]
    }
   ],
   "source": [
    "cnn = models.Sequential([\n",
    "    layers.Conv2D(filters = 32, kernel_size=(3,3), activation='relu', input_shape = (32,32,3)),\n",
    "    layers.MaxPooling2D((2,2)),\n",
    "    layers.Conv2D(filters=64, kernel_size = (3,3), activation='relu'),\n",
    "    layers.MaxPooling2D((2,2)),\n",
    "    layers.Flatten(),\n",
    "    layers.Dense(64, activation='relu'),\n",
    "    layers.Dense(10, activation='softmax')\n",
    "])\n",
    "\n",
    "cnn.compile(optimizer='adam',\n",
    "            loss='sparse_categorical_crossentropy',\n",
    "            metrics=['accuracy'])\n",
    "\n",
    "cnn.summary()"
   ]
  },
  {
   "cell_type": "code",
   "execution_count": 12,
   "metadata": {},
   "outputs": [
    {
     "name": "stderr",
     "output_type": "stream",
     "text": [
      "2022-09-27 11:10:29.646699: W tensorflow/core/framework/cpu_allocator_impl.cc:82] Allocation of 614400000 exceeds 10% of free system memory.\n",
      "2022-09-27 11:10:30.071375: W tensorflow/core/framework/cpu_allocator_impl.cc:82] Allocation of 614400000 exceeds 10% of free system memory.\n"
     ]
    },
    {
     "name": "stdout",
     "output_type": "stream",
     "text": [
      "Epoch 1/50\n"
     ]
    },
    {
     "name": "stderr",
     "output_type": "stream",
     "text": [
      "2022-09-27 11:10:32.081879: I tensorflow/stream_executor/cuda/cuda_dnn.cc:384] Loaded cuDNN version 8500\n",
      "2022-09-27 11:10:33.155967: I tensorflow/core/platform/default/subprocess.cc:304] Start cannot spawn child process: No such file or directory\n"
     ]
    },
    {
     "name": "stdout",
     "output_type": "stream",
     "text": [
      "1563/1563 [==============================] - 7s 3ms/step - loss: 1.5291 - accuracy: 0.4481\n",
      "Epoch 2/50\n",
      "1563/1563 [==============================] - 4s 2ms/step - loss: 1.1710 - accuracy: 0.5873\n",
      "Epoch 3/50\n",
      "1563/1563 [==============================] - 4s 2ms/step - loss: 1.0451 - accuracy: 0.6363\n",
      "Epoch 4/50\n",
      "1563/1563 [==============================] - 4s 2ms/step - loss: 0.9598 - accuracy: 0.6666\n",
      "Epoch 5/50\n",
      "1563/1563 [==============================] - 4s 3ms/step - loss: 0.8950 - accuracy: 0.6904\n",
      "Epoch 6/50\n",
      "1563/1563 [==============================] - 4s 3ms/step - loss: 0.8418 - accuracy: 0.7096\n",
      "Epoch 7/50\n",
      "1563/1563 [==============================] - 4s 3ms/step - loss: 0.8068 - accuracy: 0.7198\n",
      "Epoch 8/50\n",
      "1563/1563 [==============================] - 5s 3ms/step - loss: 0.7621 - accuracy: 0.7374\n",
      "Epoch 9/50\n",
      "1563/1563 [==============================] - 5s 3ms/step - loss: 0.7275 - accuracy: 0.7490\n",
      "Epoch 10/50\n",
      "1563/1563 [==============================] - 5s 3ms/step - loss: 0.6974 - accuracy: 0.7582\n",
      "Epoch 11/50\n",
      "1563/1563 [==============================] - 5s 3ms/step - loss: 0.6633 - accuracy: 0.7697\n",
      "Epoch 12/50\n",
      "1563/1563 [==============================] - 5s 3ms/step - loss: 0.6313 - accuracy: 0.7803\n",
      "Epoch 13/50\n",
      "1563/1563 [==============================] - 5s 3ms/step - loss: 0.6066 - accuracy: 0.7883\n",
      "Epoch 14/50\n",
      "1563/1563 [==============================] - 5s 3ms/step - loss: 0.5783 - accuracy: 0.7984\n",
      "Epoch 15/50\n",
      "1563/1563 [==============================] - 5s 3ms/step - loss: 0.5501 - accuracy: 0.8079\n",
      "Epoch 16/50\n",
      "1563/1563 [==============================] - 5s 3ms/step - loss: 0.5286 - accuracy: 0.8151\n",
      "Epoch 17/50\n",
      "1563/1563 [==============================] - 5s 3ms/step - loss: 0.5021 - accuracy: 0.8231\n",
      "Epoch 18/50\n",
      "1563/1563 [==============================] - 5s 3ms/step - loss: 0.4790 - accuracy: 0.8321\n",
      "Epoch 19/50\n",
      "1563/1563 [==============================] - 5s 3ms/step - loss: 0.4552 - accuracy: 0.8398\n",
      "Epoch 20/50\n",
      "1563/1563 [==============================] - 5s 3ms/step - loss: 0.4379 - accuracy: 0.8459\n",
      "Epoch 21/50\n",
      "1563/1563 [==============================] - 5s 3ms/step - loss: 0.4188 - accuracy: 0.8525\n",
      "Epoch 22/50\n",
      "1563/1563 [==============================] - 5s 3ms/step - loss: 0.3967 - accuracy: 0.8597\n",
      "Epoch 23/50\n",
      "1563/1563 [==============================] - 5s 3ms/step - loss: 0.3819 - accuracy: 0.8652\n",
      "Epoch 24/50\n",
      "1563/1563 [==============================] - 5s 3ms/step - loss: 0.3685 - accuracy: 0.8697\n",
      "Epoch 25/50\n",
      "1563/1563 [==============================] - 5s 3ms/step - loss: 0.3501 - accuracy: 0.8753\n",
      "Epoch 26/50\n",
      "1563/1563 [==============================] - 5s 3ms/step - loss: 0.3369 - accuracy: 0.8800\n",
      "Epoch 27/50\n",
      "1563/1563 [==============================] - 5s 3ms/step - loss: 0.3196 - accuracy: 0.8874\n",
      "Epoch 28/50\n",
      "1563/1563 [==============================] - 5s 3ms/step - loss: 0.3088 - accuracy: 0.8912\n",
      "Epoch 29/50\n",
      "1563/1563 [==============================] - 5s 3ms/step - loss: 0.3002 - accuracy: 0.8937\n",
      "Epoch 30/50\n",
      "1563/1563 [==============================] - 5s 3ms/step - loss: 0.2806 - accuracy: 0.8999\n",
      "Epoch 31/50\n",
      "1563/1563 [==============================] - 5s 3ms/step - loss: 0.2697 - accuracy: 0.9053\n",
      "Epoch 32/50\n",
      "1563/1563 [==============================] - 5s 3ms/step - loss: 0.2650 - accuracy: 0.9057\n",
      "Epoch 33/50\n",
      "1563/1563 [==============================] - 5s 3ms/step - loss: 0.2515 - accuracy: 0.9097\n",
      "Epoch 34/50\n",
      "1563/1563 [==============================] - 5s 3ms/step - loss: 0.2439 - accuracy: 0.9133\n",
      "Epoch 35/50\n",
      "1563/1563 [==============================] - 5s 3ms/step - loss: 0.2379 - accuracy: 0.9156\n",
      "Epoch 36/50\n",
      "1563/1563 [==============================] - 5s 3ms/step - loss: 0.2308 - accuracy: 0.9166\n",
      "Epoch 37/50\n",
      "1563/1563 [==============================] - 5s 3ms/step - loss: 0.2149 - accuracy: 0.9238\n",
      "Epoch 38/50\n",
      "1563/1563 [==============================] - 5s 3ms/step - loss: 0.2091 - accuracy: 0.9259\n",
      "Epoch 39/50\n",
      "1563/1563 [==============================] - 5s 3ms/step - loss: 0.2032 - accuracy: 0.9276\n",
      "Epoch 40/50\n",
      "1563/1563 [==============================] - 5s 3ms/step - loss: 0.2025 - accuracy: 0.9277\n",
      "Epoch 41/50\n",
      "1563/1563 [==============================] - 5s 3ms/step - loss: 0.1926 - accuracy: 0.9316\n",
      "Epoch 42/50\n",
      "1563/1563 [==============================] - 5s 3ms/step - loss: 0.1816 - accuracy: 0.9338\n",
      "Epoch 43/50\n",
      "1563/1563 [==============================] - 5s 3ms/step - loss: 0.1840 - accuracy: 0.9342\n",
      "Epoch 44/50\n",
      "1563/1563 [==============================] - 5s 3ms/step - loss: 0.1709 - accuracy: 0.9397\n",
      "Epoch 45/50\n",
      "1563/1563 [==============================] - 5s 3ms/step - loss: 0.1722 - accuracy: 0.9387\n",
      "Epoch 46/50\n",
      "1563/1563 [==============================] - 5s 3ms/step - loss: 0.1675 - accuracy: 0.9388\n",
      "Epoch 47/50\n",
      "1563/1563 [==============================] - 5s 3ms/step - loss: 0.1645 - accuracy: 0.9419\n",
      "Epoch 48/50\n",
      "1563/1563 [==============================] - 5s 3ms/step - loss: 0.1579 - accuracy: 0.9430\n",
      "Epoch 49/50\n",
      "1563/1563 [==============================] - 5s 3ms/step - loss: 0.1532 - accuracy: 0.9439\n",
      "Epoch 50/50\n",
      "1563/1563 [==============================] - 5s 3ms/step - loss: 0.1560 - accuracy: 0.9434\n"
     ]
    },
    {
     "data": {
      "text/plain": [
       "<keras.callbacks.History at 0x7f0bfbf1b3d0>"
      ]
     },
     "execution_count": 12,
     "metadata": {},
     "output_type": "execute_result"
    }
   ],
   "source": [
    "cnn.fit(X_train, y_train, epochs=50)"
   ]
  },
  {
   "cell_type": "code",
   "execution_count": 13,
   "metadata": {},
   "outputs": [
    {
     "name": "stderr",
     "output_type": "stream",
     "text": [
      "2022-09-27 11:14:43.234589: W tensorflow/core/framework/cpu_allocator_impl.cc:82] Allocation of 122880000 exceeds 10% of free system memory.\n",
      "2022-09-27 11:14:43.391979: W tensorflow/core/framework/cpu_allocator_impl.cc:82] Allocation of 122880000 exceeds 10% of free system memory.\n"
     ]
    },
    {
     "name": "stdout",
     "output_type": "stream",
     "text": [
      "313/313 [==============================] - 1s 2ms/step - loss: 2.5988 - accuracy: 0.6587\n"
     ]
    },
    {
     "data": {
      "text/plain": [
       "[2.5987706184387207, 0.6586999893188477]"
      ]
     },
     "execution_count": 13,
     "metadata": {},
     "output_type": "execute_result"
    }
   ],
   "source": [
    "cnn.evaluate(X_test, y_test)"
   ]
  },
  {
   "cell_type": "code",
   "execution_count": 14,
   "metadata": {},
   "outputs": [
    {
     "name": "stdout",
     "output_type": "stream",
     "text": [
      " 40/313 [==>...........................] - ETA: 0s "
     ]
    },
    {
     "name": "stderr",
     "output_type": "stream",
     "text": [
      "2022-09-27 11:17:12.082368: W tensorflow/core/framework/cpu_allocator_impl.cc:82] Allocation of 122880000 exceeds 10% of free system memory.\n"
     ]
    },
    {
     "name": "stdout",
     "output_type": "stream",
     "text": [
      "313/313 [==============================] - 0s 1ms/step\n"
     ]
    },
    {
     "data": {
      "text/plain": [
       "array([[7.52569719e-13, 1.26774296e-06, 8.49907276e-13, 9.99998569e-01,\n",
       "        8.91705286e-12, 1.92499012e-08, 5.54808892e-08, 1.32662136e-11,\n",
       "        1.37252547e-08, 1.90298071e-08],\n",
       "       [1.00365549e-09, 1.09607709e-06, 1.51673113e-20, 1.79312325e-18,\n",
       "        9.95869215e-22, 1.45315522e-13, 2.82853325e-25, 3.11446703e-22,\n",
       "        9.99998927e-01, 1.30552434e-14],\n",
       "       [2.02104263e-03, 3.94485258e-02, 1.43502068e-11, 5.78819993e-07,\n",
       "        3.12357279e-10, 1.97993647e-02, 2.70675545e-14, 1.22937355e-11,\n",
       "        9.38730478e-01, 1.30483500e-08],\n",
       "       [9.99999523e-01, 2.76227716e-08, 3.06255941e-07, 1.89617366e-09,\n",
       "        1.60818487e-07, 5.48945778e-10, 1.08868901e-18, 2.39292440e-15,\n",
       "        2.26371610e-09, 4.50872985e-11],\n",
       "       [2.85033441e-25, 7.08115858e-11, 3.25297660e-05, 4.32843733e-10,\n",
       "        9.99967456e-01, 7.33110531e-19, 3.05256598e-10, 9.88059870e-26,\n",
       "        1.57405089e-09, 1.66690707e-21]], dtype=float32)"
      ]
     },
     "execution_count": 14,
     "metadata": {},
     "output_type": "execute_result"
    }
   ],
   "source": [
    "y_pred = cnn.predict(X_test)\n",
    "y_pred[:5]"
   ]
  },
  {
   "cell_type": "code",
   "execution_count": 15,
   "metadata": {},
   "outputs": [
    {
     "data": {
      "text/plain": [
       "[3, 8, 8, 0, 4]"
      ]
     },
     "execution_count": 15,
     "metadata": {},
     "output_type": "execute_result"
    }
   ],
   "source": [
    "y_classes = [np.argmax(element) for element in y_pred]\n",
    "y_classes[:5]"
   ]
  },
  {
   "cell_type": "code",
   "execution_count": 19,
   "metadata": {},
   "outputs": [
    {
     "data": {
      "text/plain": [
       "array([3, 8, 8, 0, 6], dtype=uint8)"
      ]
     },
     "execution_count": 19,
     "metadata": {},
     "output_type": "execute_result"
    }
   ],
   "source": [
    "y_test = y_test.reshape(-1,)\n",
    "y_test[:5]"
   ]
  },
  {
   "cell_type": "code",
   "execution_count": 21,
   "metadata": {},
   "outputs": [
    {
     "data": {
      "image/png": "[encoded data removed]",
      "text/plain": [
       "<Figure size 1080x144 with 1 Axes>"
      ]
     },
     "metadata": {
      "needs_background": "light"
     },
     "output_type": "display_data"
    }
   ],
   "source": [
    "plot_sample(X_test, y_test, 1)"
   ]
  },
  {
   "cell_type": "code",
   "execution_count": 22,
   "metadata": {},
   "outputs": [
    {
     "data": {
      "text/plain": [
       "'ship'"
      ]
     },
     "execution_count": 22,
     "metadata": {},
     "output_type": "execute_result"
    }
   ],
   "source": [
    "classes[y_classes[1]]"
   ]
  },
  {
   "cell_type": "code",
   "execution_count": 24,
   "metadata": {},
   "outputs": [
    {
     "name": "stdout",
     "output_type": "stream",
     "text": [
      "              precision    recall  f1-score   support\n",
      "\n",
      "           0       0.73      0.69      0.71      1000\n",
      "           1       0.78      0.78      0.78      1000\n",
      "           2       0.51      0.60      0.55      1000\n",
      "           3       0.52      0.44      0.48      1000\n",
      "           4       0.58      0.61      0.59      1000\n",
      "           5       0.53      0.56      0.54      1000\n",
      "           6       0.76      0.70      0.73      1000\n",
      "           7       0.69      0.69      0.69      1000\n",
      "           8       0.74      0.80      0.77      1000\n",
      "           9       0.78      0.73      0.75      1000\n",
      "\n",
      "    accuracy                           0.66     10000\n",
      "   macro avg       0.66      0.66      0.66     10000\n",
      "weighted avg       0.66      0.66      0.66     10000\n",
      "\n"
     ]
    }
   ],
   "source": [
    "from sklearn.metrics import classification_report\n",
    "print(classification_report(y_test, y_classes))"
   ]
  },
  {
   "cell_type": "code",
   "execution_count": null,
   "metadata": {},
   "outputs": [],
   "source": []
  }
 ],
 "metadata": {
  "kernelspec": {
   "display_name": "Python 3.10.6 64-bit",
   "language": "python",
   "name": "python3"
  },
  "language_info": {
   "codemirror_mode": {
    "name": "ipython",
    "version": 3
   },
   "file_extension": ".py",
   "mimetype": "text/x-python",
   "name": "python",
   "nbconvert_exporter": "python",
   "pygments_lexer": "ipython3",
   "version": "3.10.6"
  },
  "orig_nbformat": 4,
  "vscode": {
   "interpreter": {
    "hash": "916dbcbb3f70747c44a77c7bcd40155683ae19c65e1c03b4aa3499c5328201f1"
   }
  }
 },
 "nbformat": 4,
 "nbformat_minor": 2
}
